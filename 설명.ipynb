{
 "cells": [
  {
   "cell_type": "markdown",
   "metadata": {},
   "source": [
    "# P실무 (자율주행)\n",
    "\n",
    "## 조건\n",
    "- 지정된 트랙을 따라 카메라 탑재 자동차가 주행\n",
    "- 장애물 감지 및 대응\n",
    "    - 정지 인식: 정지 후 같은 음으로 버저 3회\n",
    "    - 위험 인식: 정지 후 다른 음으로 버저 3회\n",
    "    - 'O' 표식 인식 시 해당 위치에 주차\n",
    "- 주행 경로: 검정색\n",
    "- 바운더리: 흰색"
   ]
  },
  {
   "cell_type": "markdown",
   "metadata": {},
   "source": [
    "## 주요 Cascade 학습 환경설정 값\n",
    "\n",
    "- **Sample Size:** 24 x 24  \n",
    "  - 특징 검출용 윈도우 크기\n",
    "- **Feature Type:** HAAR (BASIC)  \n",
    "  - 사용되는 특징 유형\n",
    "- **Number of Stages:** 20  \n",
    "  - 분류기 강화를 위한 단계 수\n",
    "- **Threads:** 5  \n",
    "  - 병렬처리 시 사용할 스레드 수\n",
    "- **Minimal Hit Rate:** 0.995  \n",
    "  - 검출기 정확도 최소 기준 (검출률)\n",
    "- **Maximal False Alarm Rate:** 0.5  \n",
    "  - 허용 가능한 최대 오검출율\n",
    "- **Boost Type:** GAB  \n",
    "  - 부스팅 알고리즘 타입\n",
    "- **Maximal Weak Trees:** 100  \n",
    "  - 각 스테이지당 약한 분류기(weak learner) 최대 개수"
   ]
  },
  {
   "cell_type": "markdown",
   "metadata": {},
   "source": [
    "## 코드 구성 요소 설명\n",
    "- **Manager 클래스**\n",
    "    - 시스템 전체 제어(초기화, 메인 루프)\n",
    "    - 카메라, 자동차 제어, 이미지 처리, 버저, Cascade 로더 초기화\n",
    "    - 실시간 프레임 캡처 후 주행방향 결정\n",
    "    - X, O_left, O_right, O_total, threat, stop 등 기호 인식 시 해당 동작 수행(정지, 회전 등)\n",
    "\n",
    "- **Camera 클래스**\n",
    "    - OpenCV 기반 카메라 초기화 및 설정(해상도, 밝기, 대비 등)\n",
    "    - `capture_frame()` 통해 실시간 영상 캡처\n",
    "    - 캡처한 프레임을 이미지 처리기로 전달\n",
    "\n",
    "- **CarControl 클래스**\n",
    "    - 자동차 구동 제어\n",
    "    - 방향 명령(UP, LEFT, RIGHT, REDUCED_LEFT, REDUCED_RIGHT) 별 모터 속도 조정\n",
    "    - `stop()` 메서드로 긴급 정지 가능\n",
    "\n",
    "- **ImageProcessor 클래스**\n",
    "    - 영상 전처리(그레이스케일, 투시 변환 등)\n",
    "    - 히스토그램 분석 통한 주행 방향 결정\n",
    "    - Cascade Classifier 활용 기호 인식\n",
    "\n",
    "- **Buzzer 클래스**\n",
    "    - GPIO 활용 버저 제어\n",
    "    - 이벤트별 버저 음색 및 패턴(정지, 위협 시각적 알림)\n",
    "\n",
    "- **CascadeLoader 클래스**\n",
    "    - OpenCV Cascade 분류기 로드 담당\n",
    "    - 특정 기호 인식용 모델 불러오기"
   ]
  },
  {
   "cell_type": "markdown",
   "metadata": {},
   "source": [
    "## 동작 흐름\n",
    "\n",
    "```text\n",
    "┌───────────────┐        ┌─────────────────┐\n",
    "│    Camera     │        │   CascadeLoader │\n",
    "│   영상 캡처   │        │  기호 인식 모델  │\n",
    "└─────┬─────────┘        └───────┬─────────┘\n",
    "      │                          │\n",
    "      ▼                          ▼\n",
    "┌───────────────┐        ┌────────────────┐\n",
    "│ ImageProcessor│  <---- │     Manager    │\n",
    "│  전처리 & 분석 │        │    메인 제어    │\n",
    "└─────┬─────────┘        └───────┬────────┘\n",
    "      │                          │\n",
    "      ▼                          ▼\n",
    "┌───────────────┐        ┌───────────────┐\n",
    "│   CarControl  │        │     Buzzer    │\n",
    "│   차량 제어    │        │   음향 알림   │\n",
    "└───────────────┘        └───────────────┘"
   ]
  },
  {
   "cell_type": "markdown",
   "metadata": {},
   "source": [
    "### 처리 단계\n",
    "1. 카메라로부터 실시간 프레임 수신\n",
    "2. 프레임 전처리(그레이스케일 변환, 투시변환) 및 히스토그램 분석\n",
    "3. Cascade 분류기로 특정 기호(X, O, threat, stop 등) 탐지\n",
    "4. 기호 종류 및 주행 방향 분석 결과에 따라 자동차 제어(CarControl) 명령\n",
    "5. 상황에 따라 버저(Buzzer) 알림\n",
    "6. 사용자가 키 입력 시 정지 또는 종료\n",
    "7. 예외 발생 시 안전 정지 후 리소스 해제 및 종료"
   ]
  },
  {
   "cell_type": "markdown",
   "metadata": {},
   "source": [
    "### 메인 루프 알고리즘\n",
    "```text\n",
    "\n",
    "┌──────────────────┐\n",
    "│ camera.capture_  │\n",
    "│    _frame()      │\n",
    "└───┬──────────────┘\n",
    "    │ frame\n",
    "    ▼\n",
    "┌────────────────┐\n",
    "│ image_processor│\n",
    "│.process_frame()│\n",
    "└─────┬──────────┘\n",
    "      │ processed_frame\n",
    "      ▼\n",
    "┌───────────────────┐\n",
    "│ image_processor   │\n",
    "│ .analyze()        │ → 주행 방향(direction)\n",
    "└─────┬─────────────┘\n",
    "      │ direction\n",
    "      ▼\n",
    "┌───────────────────┐\n",
    "│ image_processor   │\n",
    "│ .detect_symbol()  │ → 기호(symbol)\n",
    "└─────┬─────────────┘\n",
    "      │ symbol\n",
    "      ▼\n",
    "┌──────────────────────────────────────────────────────────┐\n",
    "│                        판단                              │\n",
    "│                                                          │\n",
    "│ if symbol == 'stop'   : 차 정지 + 버저(같은 음 3회)       │\n",
    "│ if symbol == 'threat' : 차 정지 + 버저(다른 음 3회)       │\n",
    "│ if symbol == 'O'      : 주차(차 정지)                     │\n",
    "│ else                  : direction대로 차량 구동           │\n",
    "└──────────────────────────────────────────────────────────┘\n"
   ]
  }
 ],
 "metadata": {
  "language_info": {
   "name": "python"
  }
 },
 "nbformat": 4,
 "nbformat_minor": 2
}
